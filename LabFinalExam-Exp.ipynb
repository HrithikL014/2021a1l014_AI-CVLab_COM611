{
 "cells": [
  {
   "cell_type": "code",
   "execution_count": 1,
   "id": "d877da78",
   "metadata": {},
   "outputs": [
    {
     "name": "stdout",
     "output_type": "stream",
     "text": [
      "Defaulting to user installation because normal site-packages is not writeable\n",
      "Collecting opencv-python\n",
      "  Using cached opencv_python-4.7.0.72-cp37-abi3-win_amd64.whl (38.2 MB)\n",
      "Requirement already satisfied: numpy>=1.17.3 in c:\\programdata\\anaconda3\\lib\\site-packages (from opencv-python) (1.21.5)\n",
      "Installing collected packages: opencv-python\n",
      "Successfully installed opencv-python-4.7.0.72\n",
      "Note: you may need to restart the kernel to use updated packages.\n"
     ]
    }
   ],
   "source": [
    "pip install opencv-python"
   ]
  },
  {
   "cell_type": "code",
   "execution_count": 21,
   "id": "ea46849f",
   "metadata": {},
   "outputs": [],
   "source": [
    "import numpy as np\n",
    "import cv2 \n",
    "\n",
    "img = np.zeros((400, 400, 3), dtype = \"uint8\")\n",
    "cv2.imshow('dark', img)\n",
    "\n",
    "cv2.waitKey(0)\n",
    "cv2.destroyAllWindows()\n"
   ]
  },
  {
   "cell_type": "code",
   "execution_count": 22,
   "id": "3025bfe0",
   "metadata": {},
   "outputs": [],
   "source": [
    "img = np.zeros((400, 400, 3), dtype = \"uint8\")\n",
    "\n",
    "\n",
    "cv2.line(img, (20, 160), (100, 160), (0, 0, 255), 10)\n",
    "\n",
    "cv2.imshow('dark', img)\n",
    "\n",
    "\n",
    "cv2.waitKey(0)\n",
    "cv2.destroyAllWindows()\n"
   ]
  },
  {
   "cell_type": "code",
   "execution_count": 23,
   "id": "e63b6c34",
   "metadata": {},
   "outputs": [],
   "source": [
    "img = np.zeros((400, 400, 3), dtype = \"uint8\")\n",
    "  \n",
    "\n",
    "cv2.rectangle(img, (30, 30), (300, 200), (0, 255, 0), 5)\n",
    "  \n",
    "cv2.imshow('dark', img)\n",
    "  \n",
    "\n",
    "cv2.waitKey(0)\n",
    "cv2.destroyAllWindows()"
   ]
  },
  {
   "cell_type": "code",
   "execution_count": 24,
   "id": "e2410442",
   "metadata": {},
   "outputs": [],
   "source": [
    "img = np.zeros((400, 400, 3), dtype = \"uint8\")\n",
    "  \n",
    "\n",
    "cv2.circle(img, (200, 200), 80, (255, 0, 0), 3)\n",
    "  \n",
    "cv2.imshow('dark', img)\n",
    "  \n",
    "\n",
    "cv2.waitKey(0)\n",
    "cv2.destroyAllWindows()"
   ]
  },
  {
   "cell_type": "code",
   "execution_count": 25,
   "id": "9b7e9fce",
   "metadata": {},
   "outputs": [],
   "source": [
    "img = np.zeros((400, 400, 3), dtype = \"uint8\")\n",
    "  \n",
    "\n",
    "font = cv2.FONT_HERSHEY_SIMPLEX\n",
    "cv2.putText(img, 'Rocket', (50, 50),\n",
    "            font, 0.8, (0, 255, 0), 2, cv2.LINE_AA)\n",
    "  \n",
    "cv2.imshow('dark', img)\n",
    "  \n",
    "\n",
    "cv2.waitKey(0)\n",
    "cv2.destroyAllWindows()"
   ]
  },
  {
   "cell_type": "code",
   "execution_count": null,
   "id": "a8ce601a",
   "metadata": {},
   "outputs": [],
   "source": []
  }
 ],
 "metadata": {
  "kernelspec": {
   "display_name": "Python 3 (ipykernel)",
   "language": "python",
   "name": "python3"
  },
  "language_info": {
   "codemirror_mode": {
    "name": "ipython",
    "version": 3
   },
   "file_extension": ".py",
   "mimetype": "text/x-python",
   "name": "python",
   "nbconvert_exporter": "python",
   "pygments_lexer": "ipython3",
   "version": "3.9.12"
  }
 },
 "nbformat": 4,
 "nbformat_minor": 5
}
